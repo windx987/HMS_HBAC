{
 "cells": [
  {
   "cell_type": "code",
   "execution_count": null,
   "metadata": {},
   "outputs": [],
   "source": [
    "import math\n",
    "import matplotlib.pyplot as plt"
   ]
  },
  {
   "cell_type": "code",
   "execution_count": null,
   "metadata": {},
   "outputs": [],
   "source": [
    "# Learning rate configuration\n",
    "LR_START = 1e-6\n",
    "LR_MAX = 1e-3\n",
    "LR_MIN = 1e-6\n",
    "LR_RAMPUP_EPOCHS = 0\n",
    "LR_SUSTAIN_EPOCHS = 0\n",
    "EPOCHS2 = 10\n",
    "\n",
    "# Re-define the learning rate function to match the provided code block\n",
    "def lrfn(epoch, LR_START=1e-6, LR_MAX=1e-3, LR_MIN=1e-6, LR_RAMPUP_EPOCHS=0, LR_SUSTAIN_EPOCHS=0, EPOCHS2=10):\n",
    "    if epoch < LR_RAMPUP_EPOCHS:\n",
    "        lr = (LR_MAX - LR_START) / LR_RAMPUP_EPOCHS * epoch + LR_START\n",
    "    elif epoch < LR_RAMPUP_EPOCHS + LR_SUSTAIN_EPOCHS:\n",
    "        lr = LR_MAX\n",
    "    else:\n",
    "        decay_total_epochs = EPOCHS2 - LR_RAMPUP_EPOCHS - LR_SUSTAIN_EPOCHS - 1\n",
    "        decay_epoch_index = epoch - LR_RAMPUP_EPOCHS - LR_SUSTAIN_EPOCHS\n",
    "        phase = math.pi * decay_epoch_index / decay_total_epochs\n",
    "        cosine_decay = 0.5 * (1 + math.cos(phase))\n",
    "        lr = (LR_MAX - LR_MIN) * cosine_decay + LR_MIN\n",
    "    return lr"
   ]
  },
  {
   "cell_type": "code",
   "execution_count": null,
   "metadata": {},
   "outputs": [],
   "source": [
    "# Generate learning rates for each epoch\n",
    "epochs = list(range(EPOCHS2))\n",
    "learning_rates = [lrfn(epoch) for epoch in epochs]\n",
    "\n",
    "plt.figure(figsize=(10, 4))\n",
    "plt.plot(epochs, learning_rates, marker='o')\n",
    "plt.xlabel('epoch',size=14); plt.ylabel('learning rate',size=14)\n",
    "plt.title('Learning Rate Schedule',size=16); plt.show()"
   ]
  },
  {
   "cell_type": "code",
   "execution_count": null,
   "metadata": {},
   "outputs": [],
   "source": [
    "# Update the learning rate parameters for visualization\n",
    "LR_START = 1e-4\n",
    "LR_MAX = 1e-3\n",
    "LR_RAMPUP_EPOCHS = 0\n",
    "LR_SUSTAIN_EPOCHS = 1\n",
    "LR_STEP_DECAY = 0.1\n",
    "EVERY = 1\n",
    "EPOCHS = 4\n",
    "\n",
    "# Updated learning rate function\n",
    "def lrfn(epoch):\n",
    "    if epoch < LR_RAMPUP_EPOCHS:\n",
    "        lr = (LR_MAX - LR_START) / LR_RAMPUP_EPOCHS * epoch + LR_START\n",
    "    elif epoch < LR_RAMPUP_EPOCHS + LR_SUSTAIN_EPOCHS:\n",
    "        lr = LR_MAX\n",
    "    else:\n",
    "        lr = LR_MAX * LR_STEP_DECAY**((epoch - LR_RAMPUP_EPOCHS - LR_SUSTAIN_EPOCHS)//EVERY)\n",
    "    return lr"
   ]
  },
  {
   "cell_type": "code",
   "execution_count": null,
   "metadata": {},
   "outputs": [],
   "source": [
    "# Generating learning rates for each epoch\n",
    "epochs = list(range(EPOCHS))\n",
    "learning_rates = [lrfn(epoch) for epoch in epochs]\n",
    "\n",
    "plt.figure(figsize=(10, 4))\n",
    "plt.plot(epochs, learning_rates, marker='o')\n",
    "plt.xlabel('epoch',size=14); plt.ylabel('learning rate',size=14)\n",
    "plt.title('Step Training Schedule',size=16); plt.show()"
   ]
  }
 ],
 "metadata": {
  "language_info": {
   "name": "python"
  }
 },
 "nbformat": 4,
 "nbformat_minor": 2
}
