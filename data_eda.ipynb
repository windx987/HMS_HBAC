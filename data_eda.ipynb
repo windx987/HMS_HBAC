{
 "cells": [
  {
   "cell_type": "code",
   "execution_count": null,
   "metadata": {},
   "outputs": [],
   "source": [
    "import pandas as pd\n",
    "import matplotlib.pyplot as plt\n",
    "import seaborn as sns\n",
    "\n",
    "sns.set(style=\"whitegrid\")"
   ]
  },
  {
   "cell_type": "code",
   "execution_count": null,
   "metadata": {},
   "outputs": [],
   "source": [
    "train = pd.read_csv(\"/kaggle/input/hms-harmful-brain-activity-classification/train.csv\")\n",
    "train.head()"
   ]
  },
  {
   "cell_type": "code",
   "execution_count": null,
   "metadata": {},
   "outputs": [],
   "source": [
    "rows, columns = train.shape\n",
    "rows, columns"
   ]
  },
  {
   "cell_type": "code",
   "execution_count": null,
   "metadata": {},
   "outputs": [],
   "source": [
    "train_info = train.info()\n",
    "train_info"
   ]
  },
  {
   "cell_type": "code",
   "execution_count": null,
   "metadata": {},
   "outputs": [],
   "source": [
    "train.describe()"
   ]
  },
  {
   "cell_type": "markdown",
   "metadata": {},
   "source": [
    "categorical_columns = train.select_dtypes(include=['object', 'category']).columns\n",
    "categorical_summary = train[categorical_columns].describe()\n",
    "categorical_summary"
   ]
  },
  {
   "cell_type": "code",
   "execution_count": null,
   "metadata": {},
   "outputs": [],
   "source": [
    "list(set(train['expert_consensus'].unique()))"
   ]
  },
  {
   "cell_type": "code",
   "execution_count": null,
   "metadata": {},
   "outputs": [],
   "source": [
    "plt.figure(figsize=(10, 6))\n",
    "sns.countplot(data=train, x='expert_consensus')\n",
    "plt.title('Distribution of Expert Consensus')\n",
    "plt.xlabel('Expert Consensus')\n",
    "plt.ylabel('Count')\n",
    "plt.xticks(rotation=45)\n",
    "plt.show()"
   ]
  },
  {
   "cell_type": "code",
   "execution_count": null,
   "metadata": {},
   "outputs": [],
   "source": [
    "plt.figure(figsize=(10, 6))\n",
    "sns.histplot(train['patient_id'], bins=30, kde=False)\n",
    "plt.title('Distribution of Patient ID')\n",
    "plt.xlabel('Patient ID')\n",
    "plt.ylabel('Count')\n",
    "plt.show()"
   ]
  },
  {
   "cell_type": "code",
   "execution_count": null,
   "metadata": {},
   "outputs": [],
   "source": [
    "targets = ['seizure_vote', 'lpd_vote', 'gpd_vote', 'lrda_vote', 'grda_vote', 'other_vote']\n",
    "\n",
    "plt.figure(figsize=(15, 10))\n",
    "for i, column in enumerate(targets, 1):\n",
    "    plt.subplot(2, 4, i)\n",
    "    sns.histplot(train[column], kde=False, bins=30)\n",
    "    plt.title(column)\n",
    "plt.tight_layout()"
   ]
  },
  {
   "cell_type": "code",
   "execution_count": null,
   "metadata": {},
   "outputs": [],
   "source": [
    "correlation_targets = train[targets].corr()\n",
    "plt.figure(figsize=(12, 8))\n",
    "sns.heatmap(correlation_targets, annot=True, cmap='coolwarm', fmt=\".2f\")\n",
    "plt.title('Correlation Matrix of Vote Columns')\n",
    "plt.show()\n",
    "\n",
    "plt.figure(figsize=(12, 10))\n",
    "for i, column in enumerate(targets, 1):\n",
    "    plt.subplot(3, 2, i)\n",
    "    sns.violinplot(data=train, x='expert_consensus', y=column)\n",
    "    plt.title(f'Distribution of {column} by Expert Consensus')\n",
    "\n",
    "plt.tight_layout()\n",
    "plt.show()"
   ]
  },
  {
   "cell_type": "code",
   "execution_count": null,
   "metadata": {},
   "outputs": [],
   "source": [
    "sns.pairplot(train[targets])\n",
    "plt.suptitle('Pairwise Relationships of Target Votes', y=1.02)\n",
    "plt.show()"
   ]
  },
  {
   "cell_type": "code",
   "execution_count": null,
   "metadata": {},
   "outputs": [],
   "source": [
    "offset_stats = train[['eeg_label_offset_seconds', 'spectrogram_label_offset_seconds']].describe()\n",
    "\n",
    "plt.figure(figsize=(12, 6))\n",
    "sns.histplot(train['eeg_label_offset_seconds'], bins=30, kde=True)\n",
    "plt.title('Distribution of EEG Label Offset Seconds')\n",
    "plt.xlabel('EEG Label Offset Seconds')\n",
    "plt.ylabel('Count')\n",
    "plt.show()\n",
    "\n",
    "plt.figure(figsize=(12, 6))\n",
    "sns.histplot(train['spectrogram_label_offset_seconds'], bins=30, kde=True)\n",
    "plt.title('Distribution of Spectrogram Label Offset Seconds')\n",
    "plt.xlabel('Spectrogram Label Offset Seconds')\n",
    "plt.ylabel('Count')\n",
    "plt.show()\n",
    "\n",
    "offset_stats"
   ]
  },
  {
   "cell_type": "code",
   "execution_count": null,
   "metadata": {},
   "outputs": [],
   "source": [
    "total_eegs = len(train['eeg_id'].unique())\n",
    "total_eegs"
   ]
  },
  {
   "cell_type": "code",
   "execution_count": null,
   "metadata": {},
   "outputs": [],
   "source": [
    "all_eeg_label_offset_seconds = sorted(list(train['eeg_label_offset_seconds'].unique()))\n",
    "len(all_eeg_label_offset_seconds), str(all_eeg_label_offset_seconds[0:5]), str(all_eeg_label_offset_seconds[-5:])"
   ]
  },
  {
   "cell_type": "code",
   "execution_count": null,
   "metadata": {},
   "outputs": [],
   "source": [
    "all_spectrogram_label_offset_seconds = sorted(list(train['spectrogram_label_offset_seconds'].unique()))\n",
    "len(all_spectrogram_label_offset_seconds), str(all_spectrogram_label_offset_seconds[0:5]), str(all_spectrogram_label_offset_seconds[-5:])"
   ]
  },
  {
   "cell_type": "code",
   "execution_count": null,
   "metadata": {},
   "outputs": [],
   "source": [
    "vote_counts_by_consensus = train.groupby('expert_consensus')[targets].sum()\n",
    "\n",
    "plt.figure(figsize=(12, 8))\n",
    "vote_counts_by_consensus.plot(kind='bar', stacked=True)\n",
    "plt.title('Overall Vote Counts by Expert Consensus')\n",
    "plt.xlabel('Expert Consensus')\n",
    "plt.ylabel('Total Votes')\n",
    "plt.xticks(rotation=45)\n",
    "plt.legend(title='Vote Types')\n",
    "plt.show()"
   ]
  },
  {
   "cell_type": "code",
   "execution_count": null,
   "metadata": {},
   "outputs": [],
   "source": [
    "cumulative_votes = train.groupby('eeg_label_offset_seconds')[targets].sum().cumsum().reset_index()\n",
    "\n",
    "plt.figure(figsize=(12, 8))\n",
    "for column in targets:\n",
    "    plt.plot(cumulative_votes['eeg_label_offset_seconds'], cumulative_votes[column], label=column)\n",
    "\n",
    "plt.title('Vote Counts Over EEG Label Offset Seconds')\n",
    "plt.xlabel('EEG Label Offset Seconds')\n",
    "plt.ylabel('Total Votes')\n",
    "plt.legend()\n",
    "plt.show()"
   ]
  },
  {
   "cell_type": "code",
   "execution_count": null,
   "metadata": {},
   "outputs": [],
   "source": [
    "cumulative_votes = train.groupby('spectrogram_label_offset_seconds')[targets].sum().cumsum().reset_index()\n",
    "\n",
    "plt.figure(figsize=(12, 8))\n",
    "for column in targets:\n",
    "    plt.plot(cumulative_votes['spectrogram_label_offset_seconds'], cumulative_votes[column], label=column)\n",
    "\n",
    "plt.title('Vote Counts Over Spectrogram Offset Seconds')\n",
    "plt.xlabel('EEG Label Offset Seconds')\n",
    "plt.ylabel('Total Votes')\n",
    "plt.legend()\n",
    "plt.show()"
   ]
  },
  {
   "cell_type": "code",
   "execution_count": null,
   "metadata": {},
   "outputs": [],
   "source": [
    "cumulative_votes"
   ]
  },
  {
   "cell_type": "code",
   "execution_count": null,
   "metadata": {},
   "outputs": [],
   "source": [
    "sorted_data = train.sort_values(by=['eeg_id', 'eeg_sub_id'])\n",
    "\n",
    "sorted_data['offset_difference'] = sorted_data.groupby('eeg_id')['eeg_label_offset_seconds'].diff()\n",
    "\n",
    "offset_differences = sorted_data['offset_difference'].dropna()\n",
    "\n",
    "offset_difference_stats = offset_differences.describe()\n",
    "\n",
    "plt.figure(figsize=(12, 6))\n",
    "sns.histplot(offset_differences, bins=30, kde=True)\n",
    "plt.title('Offset Differences within EEG IDs')\n",
    "plt.xlabel('Offset Difference (Seconds)')\n",
    "plt.ylabel('Frequency')\n",
    "plt.show()"
   ]
  },
  {
   "cell_type": "code",
   "execution_count": null,
   "metadata": {},
   "outputs": [],
   "source": [
    "sample_patients = train['patient_id'].sample(20, random_state=1).values\n",
    "sample_data = train[train['patient_id'].isin(sample_patients)]\n",
    "\n",
    "for i, vote_type in enumerate(targets, 1):\n",
    "    plt.figure(figsize=(15, 10))\n",
    "    sns.boxplot(x='patient_id', y=vote_type, data=sample_data)\n",
    "    plt.title(f'Distribution of {vote_type} for Selected Patients')\n",
    "    plt.xlabel('Patient ID')\n",
    "    plt.ylabel(f'{vote_type} Count')\n",
    "    plt.show()"
   ]
  },
  {
   "cell_type": "code",
   "execution_count": null,
   "metadata": {},
   "outputs": [],
   "source": [
    "total_votes_per_pat = train.groupby('patient_id')[targets].sum().sum(axis=1)\n",
    "normalized_votes = train.groupby('patient_id')[targets].sum().div(total_votes_per_pat, axis=0)\n",
    "mean_vote_ratio = normalized_votes.mean()\n",
    "print( mean_vote_ratio )"
   ]
  }
 ],
 "metadata": {
  "language_info": {
   "name": "python"
  }
 },
 "nbformat": 4,
 "nbformat_minor": 2
}
